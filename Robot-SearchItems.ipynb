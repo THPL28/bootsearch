{
 "cells": [
  {
   "cell_type": "code",
   "execution_count": null,
   "id": "8fbf3109",
   "metadata": {},
   "outputs": [],
   "source": [
    "#BUSCA AUTOMATIZADA DE PRODUTOS"
   ]
  },
  {
   "cell_type": "code",
   "execution_count": null,
   "id": "e713cee0",
   "metadata": {},
   "outputs": [],
   "source": [
    "#OBTER PRODUTOS "
   ]
  },
  {
   "cell_type": "code",
   "execution_count": 20,
   "id": "696c72ab",
   "metadata": {},
   "outputs": [],
   "source": [
    "import pyautogui\n",
    "import pyperclip\n",
    "import time\n",
    "\n",
    "#pyautogui.hoytkey_> conjunto de teclas\n",
    "#pyautogui.write-> escrever um texto\n",
    "#pyautogui.press-> apertar uma tecla\n",
    "\n",
    "pyautogui.PAUSE = 1\n",
    "\n",
    "#Passo 1: \n",
    "pyautogui.hotkey(\"ctrl\",\"t\")\n",
    "pyperclip.copy(\"https://www.google.com/\")\n",
    "pyautogui.hotkey(\"ctrl\",\"v\")\n",
    "pyautogui.press(\"enter\")\n",
    "\n",
    "#Esperar alguns segundos\n",
    "time.sleep(5)\n",
    "# #\n",
    "\n",
    "pyautogui.write('Camisa Polo') \n",
    "pyautogui.press(\"enter\")"
   ]
  },
  {
   "cell_type": "code",
   "execution_count": null,
   "id": "bec51101",
   "metadata": {},
   "outputs": [],
   "source": []
  },
  {
   "cell_type": "code",
   "execution_count": null,
   "id": "b8fba5d2",
   "metadata": {},
   "outputs": [],
   "source": []
  }
 ],
 "metadata": {
  "kernelspec": {
   "display_name": "Python 3 (ipykernel)",
   "language": "python",
   "name": "python3"
  },
  "language_info": {
   "codemirror_mode": {
    "name": "ipython",
    "version": 3
   },
   "file_extension": ".py",
   "mimetype": "text/x-python",
   "name": "python",
   "nbconvert_exporter": "python",
   "pygments_lexer": "ipython3",
   "version": "3.9.7"
  }
 },
 "nbformat": 4,
 "nbformat_minor": 5
}
